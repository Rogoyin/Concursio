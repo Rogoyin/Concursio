{
 "cells": [
  {
   "attachments": {
    "image.png": {
     "image/png": "[encoded data removed]"
    }
   },
   "cell_type": "markdown",
   "metadata": {},
   "source": [
    "![image.png](attachment:image.png)\n",
    "\n",
    "En el instante inicial 20 ratones se encuentran en el compartimiento I. Las puertas que separan los compartimientos permanecen cerradas salvo durante un breve lapso cada hora, donde los ratones pueden pasar a un comportamiento adyacente o permanecer en el mismo. Se supone que nada distingue un compartimento de otro, es decir que es igualmente probable que un ratón pase a cualquiera de los adyacentes o se quede en el compartimiento en el que está. Se realizan observaciones cada hora y se registra el número de ratones en cada compartimiento.\n",
    "\n",
    "a) Determinar la matriz de transición del proceso P.\n",
    "\n",
    "b) Determinar cuántos ratones habrá en cada celda al cabo de 4 horas.\n",
    "\n",
    "c) Decidir si existe o no un estado de equilibrio.\n",
    "\n",
    "d) Decidir si existe P∞ y en tal caso calcularla. ¿Qué aspecto tiene? ¿Por qué?"
   ]
  },
  {
   "cell_type": "code",
   "execution_count": null,
   "metadata": {},
   "outputs": [],
   "source": [
    "Ratones_Inciciales = 20"
   ]
  },
  {
   "cell_type": "code",
   "execution_count": null,
   "metadata": {},
   "outputs": [],
   "source": [
    "# a)\n",
    "# Llamemos ti a cada suceso de apertura de puertas -que es cada una hora-.\n",
    "# Existe una posibilidad entre 4 del ratón de moverse, ya sea a II, III, IV o quedarse en I en cada t.\n",
    "\n",
    "t0 = \"I\"\n",
    "\n"
   ]
  },
  {
   "cell_type": "code",
   "execution_count": 1,
   "metadata": {},
   "outputs": [],
   "source": [
    "import pandas as pd"
   ]
  },
  {
   "cell_type": "markdown",
   "metadata": {},
   "source": [
    "En el archivo infantesConBajoPesoAlNacer.txt se encuentran los datos correspondientes a mediciones de 100 niños nacidos con bajo peso en Boston (Labor and Deliver Characteristics and the Risk of Germinal Matrix Hemorrhage in Low Birth Weight Infants. Journal of Child Neurology, 6(1), 35-40, (1991)).\n",
    "\n",
    "Definimos las siguientes variables:\n",
    "\n",
    "- Y: perímetro cefálico del bebé al nacer, en centímetros (columna headcirc).\n",
    "- X1: edad gestacional del bebé al nacer, en semanas (columna gestage).\n",
    "- X2: peso al nacer del bebé, en gramos (columna birthwt).\n",
    "\n",
    "Tareas:\n",
    "\n",
    "a) Graficar X1 vs. Y y X2 vs. Y. ¿Qué tipo de relación observas en cada caso?\n",
    "\n",
    "b) Plantear un modelo de regresión lineal para predecir el perímetro cefálico del bebé en función de su edad gestacional.\n",
    "\n",
    "c) Plantear un modelo de regresión lineal múltiple para predecir el perímetro cefálico del bebé en función de su edad gestacional y de su peso al nacer.\n",
    "\n",
    "d) Si en el modelo obtenido en el ítem anterior mantenemos constante la edad gestacional, ¿cuántos centímetros de aumento en el perímetro cefálico, en promedio, se corresponden con cada incremento del peso en 10 gramos?"
   ]
  },
  {
   "cell_type": "code",
   "execution_count": 3,
   "metadata": {},
   "outputs": [
    {
     "data": {
      "text/html": [
       "<div>\n",
       "<style scoped>\n",
       "    .dataframe tbody tr th:only-of-type {\n",
       "        vertical-align: middle;\n",
       "    }\n",
       "\n",
       "    .dataframe tbody tr th {\n",
       "        vertical-align: top;\n",
       "    }\n",
       "\n",
       "    .dataframe thead th {\n",
       "        text-align: right;\n",
       "    }\n",
       "</style>\n",
       "<table border=\"1\" class=\"dataframe\">\n",
       "  <thead>\n",
       "    <tr style=\"text-align: right;\">\n",
       "      <th></th>\n",
       "      <th>headcirc</th>\n",
       "      <th>length</th>\n",
       "      <th>gestage</th>\n",
       "      <th>birthwt</th>\n",
       "      <th>momage</th>\n",
       "      <th>toxemia</th>\n",
       "    </tr>\n",
       "  </thead>\n",
       "  <tbody>\n",
       "    <tr>\n",
       "      <th>0</th>\n",
       "      <td>27</td>\n",
       "      <td>41</td>\n",
       "      <td>29</td>\n",
       "      <td>1360</td>\n",
       "      <td>37</td>\n",
       "      <td>0</td>\n",
       "    </tr>\n",
       "    <tr>\n",
       "      <th>1</th>\n",
       "      <td>29</td>\n",
       "      <td>40</td>\n",
       "      <td>31</td>\n",
       "      <td>1490</td>\n",
       "      <td>34</td>\n",
       "      <td>0</td>\n",
       "    </tr>\n",
       "    <tr>\n",
       "      <th>2</th>\n",
       "      <td>30</td>\n",
       "      <td>38</td>\n",
       "      <td>33</td>\n",
       "      <td>1490</td>\n",
       "      <td>32</td>\n",
       "      <td>0</td>\n",
       "    </tr>\n",
       "    <tr>\n",
       "      <th>3</th>\n",
       "      <td>28</td>\n",
       "      <td>38</td>\n",
       "      <td>31</td>\n",
       "      <td>1180</td>\n",
       "      <td>37</td>\n",
       "      <td>0</td>\n",
       "    </tr>\n",
       "    <tr>\n",
       "      <th>4</th>\n",
       "      <td>29</td>\n",
       "      <td>38</td>\n",
       "      <td>30</td>\n",
       "      <td>1200</td>\n",
       "      <td>29</td>\n",
       "      <td>1</td>\n",
       "    </tr>\n",
       "  </tbody>\n",
       "</table>\n",
       "</div>"
      ],
      "text/plain": [
       "   headcirc   length   gestage   birthwt   momage   toxemia\n",
       "0        27       41        29      1360       37         0\n",
       "1        29       40        31      1490       34         0\n",
       "2        30       38        33      1490       32         0\n",
       "3        28       38        31      1180       37         0\n",
       "4        29       38        30      1200       29         1"
      ]
     },
     "execution_count": 3,
     "metadata": {},
     "output_type": "execute_result"
    }
   ],
   "source": [
    "Archivo = 'infantesConBajoPesoAlNacer.txt'\n",
    "\n",
    "df = pd.read_csv(Archivo)\n",
    "\n",
    "df.head()"
   ]
  },
  {
   "cell_type": "code",
   "execution_count": 14,
   "metadata": {},
   "outputs": [
    {
     "data": {
      "text/plain": [
       "<matplotlib.collections.PathCollection at 0x2731cf9b510>"
      ]
     },
     "execution_count": 14,
     "metadata": {},
     "output_type": "execute_result"
    },
    {
     "data": {
      "image/png": "[encoded data removed]",
      "text/plain": [
       "<Figure size 640x480 with 1 Axes>"
      ]
     },
     "metadata": {},
     "output_type": "display_data"
    }
   ],
   "source": [
    "import matplotlib.pyplot as plt\n",
    "\n",
    "Y = df['headcirc']\n",
    "X1 = df[' gestage']\n",
    "X2 = df[' birthwt']\n",
    "\n",
    "\n",
    "# Mostrar gráfico.\n",
    "\n",
    "plt.show()\n",
    "\n",
    "# Etiquetas de eje y título.\n",
    "plt.title('Título del gráfico')\n",
    "plt.xlabel('Eje X')\n",
    "plt.ylabel('Eje Y')\n",
    "\n",
    "plt.scatter(X1, Y)"
   ]
  },
  {
   "cell_type": "code",
   "execution_count": 9,
   "metadata": {},
   "outputs": [
    {
     "data": {
      "text/plain": [
       "Index(['headcirc', ' length', ' gestage', ' birthwt', ' momage', ' toxemia'], dtype='object')"
      ]
     },
     "execution_count": 9,
     "metadata": {},
     "output_type": "execute_result"
    }
   ],
   "source": [
    "df.columns"
   ]
  },
  {
   "cell_type": "code",
   "execution_count": null,
   "metadata": {},
   "outputs": [],
   "source": []
  }
 ],
 "metadata": {
  "kernelspec": {
   "display_name": "Python 3",
   "language": "python",
   "name": "python3"
  },
  "language_info": {
   "codemirror_mode": {
    "name": "ipython",
    "version": 3
   },
   "file_extension": ".py",
   "mimetype": "text/x-python",
   "name": "python",
   "nbconvert_exporter": "python",
   "pygments_lexer": "ipython3",
   "version": "3.11.9"
  }
 },
 "nbformat": 4,
 "nbformat_minor": 2
}
