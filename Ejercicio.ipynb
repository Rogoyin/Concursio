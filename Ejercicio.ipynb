{
 "cells": [
  {
   "cell_type": "markdown",
   "metadata": {},
   "source": [
    "### __Ejercicio 1__\n",
    "***"
   ]
  },
  {
   "attachments": {
    "image.png": {
     "image/png": "[encoded data removed]"
    }
   },
   "cell_type": "markdown",
   "metadata": {},
   "source": [
    "![image.png](attachment:image.png)\n",
    "\n",
    "En el instante inicial 20 ratones se encuentran en el compartimiento I. Las puertas que separan los compartimientos permanecen cerradas salvo durante un breve lapso cada hora, donde los ratones pueden pasar a un comportamiento adyacente o permanecer en el mismo. Se supone que nada distingue un compartimento de otro, es decir que es igualmente probable que un ratón pase a cualquiera de los adyacentes o se quede en el compartimiento en el que está. Se realizan observaciones cada hora y se registra el número de ratones en cada compartimiento."
   ]
  },
  {
   "cell_type": "markdown",
   "metadata": {},
   "source": [
    "#### __Ítem A__\n",
    "***\n",
    "\n",
    "Determinar la matriz de transición del proceso P."
   ]
  },
  {
   "cell_type": "markdown",
   "metadata": {},
   "source": [
    "Comenzamos importando la biblioteca numpy, que nos permite operar con arreglos (arrays) multidimensionales, es decir, matrices, así como realizar operaciones matemáticas de alto nivel."
   ]
  },
  {
   "cell_type": "code",
   "execution_count": 62,
   "metadata": {},
   "outputs": [],
   "source": [
    "import numpy as np\n",
    "\n",
    "# \"as np\" quiere decir que cada vez que llamemos a una función, método o clase de la librería numpy,\n",
    "# tenemos que especificarlo con un \"np.\".\n",
    "# De esta forma el sistema reconoce que la función proviene de esa librería."
   ]
  },
  {
   "cell_type": "markdown",
   "metadata": {},
   "source": [
    "Si les da error y dice que no existe la librería, prueben en una celda aparte poner:"
   ]
  },
  {
   "cell_type": "code",
   "execution_count": 63,
   "metadata": {},
   "outputs": [],
   "source": [
    "# pip install numpy"
   ]
  },
  {
   "cell_type": "markdown",
   "metadata": {},
   "source": [
    "Esto debería instalarles la librería. Luego de esto, prueben de nuevo el _import numpy_."
   ]
  },
  {
   "cell_type": "markdown",
   "metadata": {},
   "source": [
    "Necesitamos representar las transiciones entre compartimentos. Los 20 ratones se encuentran en el inicio en el compartimento I. Luego de que se abren las puertas, solo hay 4 eventos posibles para cada ratón:\n",
    "- Se queda en el I.\n",
    "- Pasa al II.\n",
    "- Pasa al III.\n",
    "- Pasa al IV.\n",
    "\n",
    "Cada uno de estos eventos es igualmente probable (25%). Sin embargo, para los demás compartimentos la probabilidad no es la misma. El II solo está conectado con el I, por ende, para un ratón que esté en el II, la probabilidad va a ser de 50% de quedarse y 50% de irse al I. Lo mismo con el III y IV.\n",
    "\n",
    "Creamos entonces la matriz de transición, dónde cada fila de la matriz representa las probabilidades que tiene un ratón de pasar a determinado compartimento estando en un compartimento específico. Las columnas representan la probabilidad de destino, es decir, de que lleguen a ese compartimento."
   ]
  },
  {
   "cell_type": "code",
   "execution_count": 64,
   "metadata": {},
   "outputs": [],
   "source": [
    "# Creamos la matriz de transición.\n",
    "Matriz_Transicion = np.array([[1/4, 1/4, 1/4, 1/4],  # Compartimiento I\n",
    "                              [1/2, 1/2, 0, 0],  # Compartimiento II\n",
    "                              [1/2, 0, 1/2, 0],  # Compartimiento III\n",
    "                              [1/2, 0, 0, 1/2] # Compartimiento IV\n",
    "                              ])\n",
    "\n",
    "\n",
    "# La función array crea un arreglo de numpy. \n",
    "# Cada elemento del array representa una fila (i), y cada elemento dentro de un elemento representa\n",
    "# una columna (j).\n",
    "# En este caso, la matriz es de 4x4."
   ]
  },
  {
   "cell_type": "code",
   "execution_count": 65,
   "metadata": {},
   "outputs": [
    {
     "name": "stdout",
     "output_type": "stream",
     "text": [
      "[[0.25 0.25 0.25 0.25]\n",
      " [0.5  0.5  0.   0.  ]\n",
      " [0.5  0.   0.5  0.  ]\n",
      " [0.5  0.   0.   0.5 ]]\n"
     ]
    }
   ],
   "source": [
    "# Imprimimos la matriz para visualizarla.\n",
    "print(Matriz_Transicion)"
   ]
  },
  {
   "cell_type": "markdown",
   "metadata": {},
   "source": [
    "#### __Ítem B__\n",
    "***\n",
    "\n",
    "Determinar cuántos ratones habrá en cada celda al cabo de 4 horas."
   ]
  },
  {
   "cell_type": "markdown",
   "metadata": {},
   "source": [
    "Tenemos 20 ratones. Vamos a definirlo en una variable."
   ]
  },
  {
   "cell_type": "code",
   "execution_count": 66,
   "metadata": {},
   "outputs": [],
   "source": [
    "Cantidad_Ratones = 20"
   ]
  },
  {
   "cell_type": "markdown",
   "metadata": {},
   "source": [
    "Definimos las horas."
   ]
  },
  {
   "cell_type": "code",
   "execution_count": 67,
   "metadata": {},
   "outputs": [],
   "source": [
    "Horas = 4"
   ]
  },
  {
   "cell_type": "markdown",
   "metadata": {},
   "source": [
    "Definimos el estado de ratones con el estado inicial con un array de cuatro elementos, donde cada elemento representa un compartimento y la cantidad de ratones que hay en él."
   ]
  },
  {
   "cell_type": "code",
   "execution_count": 68,
   "metadata": {},
   "outputs": [],
   "source": [
    "Estado = np.array([Cantidad_Ratones, 0, 0, 0])"
   ]
  },
  {
   "cell_type": "markdown",
   "metadata": {},
   "source": [
    "Vamos a multiplicar la matriz de transición por el estado tantas veces como horas nos indican, ya que hay una transición de los ratones una vez por hora. Para eso utilizamos un bucle for:"
   ]
  },
  {
   "cell_type": "code",
   "execution_count": 69,
   "metadata": {},
   "outputs": [],
   "source": [
    "for i in range(0, Horas):\n",
    "    Estado = np.dot(Estado, Matriz_Transicion) # np.dot es igual a multiplicación de matrices.\n",
    "    Estado = np.round(Estado)                  # np.round redondea los números a cero decimales.\n",
    "    Estado = Estado.astype(int)                # astype convierte los datos al tipo especificado, en este caso int (enteros).\n",
    "\n",
    "# El bucle itera tantas veces como lo indica el rango (range) que especificamos. En este caso, es\n",
    "# de 0 hasta 3 (Horas = 4, y este número no se incluye). En este caso el 0 es el primer paso, por \n",
    "# ende de 0 a 3 tenemos 4 pasos. "
   ]
  },
  {
   "cell_type": "markdown",
   "metadata": {},
   "source": [
    "Imprimimos el estado final y vemos cuántos ratones hay en cada compartimento al cabo de 4 horas."
   ]
  },
  {
   "cell_type": "code",
   "execution_count": 70,
   "metadata": {},
   "outputs": [
    {
     "name": "stdout",
     "output_type": "stream",
     "text": [
      "[8 4 4 4]\n"
     ]
    }
   ],
   "source": [
    "print(Estado)"
   ]
  },
  {
   "cell_type": "markdown",
   "metadata": {},
   "source": [
    "### __Ítem c__\n",
    "***\n",
    "\n",
    "Decidir si existe o no un estado de equilibrio."
   ]
  },
  {
   "cell_type": "markdown",
   "metadata": {},
   "source": []
  },
  {
   "cell_type": "code",
   "execution_count": null,
   "metadata": {},
   "outputs": [],
   "source": []
  },
  {
   "cell_type": "markdown",
   "metadata": {},
   "source": []
  },
  {
   "cell_type": "code",
   "execution_count": null,
   "metadata": {},
   "outputs": [],
   "source": []
  },
  {
   "cell_type": "markdown",
   "metadata": {},
   "source": []
  },
  {
   "cell_type": "markdown",
   "metadata": {},
   "source": [
    "\n",
    "\n",
    "d) Decidir si existe P∞ y en tal caso calcularla. ¿Qué aspecto tiene? ¿Por qué?"
   ]
  },
  {
   "cell_type": "code",
   "execution_count": 71,
   "metadata": {},
   "outputs": [],
   "source": [
    "import pandas as pd"
   ]
  },
  {
   "cell_type": "markdown",
   "metadata": {},
   "source": [
    "En el archivo infantesConBajoPesoAlNacer.txt se encuentran los datos correspondientes a mediciones de 100 niños nacidos con bajo peso en Boston (Labor and Deliver Characteristics and the Risk of Germinal Matrix Hemorrhage in Low Birth Weight Infants. Journal of Child Neurology, 6(1), 35-40, (1991)).\n",
    "\n",
    "Definimos las siguientes variables:\n",
    "\n",
    "- Y: perímetro cefálico del bebé al nacer, en centímetros (columna headcirc).\n",
    "- X1: edad gestacional del bebé al nacer, en semanas (columna gestage).\n",
    "- X2: peso al nacer del bebé, en gramos (columna birthwt).\n",
    "\n",
    "Tareas:\n",
    "\n",
    "a) Graficar X1 vs. Y y X2 vs. Y. ¿Qué tipo de relación observas en cada caso?\n",
    "\n",
    "b) Plantear un modelo de regresión lineal para predecir el perímetro cefálico del bebé en función de su edad gestacional.\n",
    "\n",
    "c) Plantear un modelo de regresión lineal múltiple para predecir el perímetro cefálico del bebé en función de su edad gestacional y de su peso al nacer.\n",
    "\n",
    "d) Si en el modelo obtenido en el ítem anterior mantenemos constante la edad gestacional, ¿cuántos centímetros de aumento en el perímetro cefálico, en promedio, se corresponden con cada incremento del peso en 10 gramos?"
   ]
  },
  {
   "cell_type": "code",
   "execution_count": 76,
   "metadata": {},
   "outputs": [
    {
     "data": {
      "text/html": [
       "<div>\n",
       "<style scoped>\n",
       "    .dataframe tbody tr th:only-of-type {\n",
       "        vertical-align: middle;\n",
       "    }\n",
       "\n",
       "    .dataframe tbody tr th {\n",
       "        vertical-align: top;\n",
       "    }\n",
       "\n",
       "    .dataframe thead th {\n",
       "        text-align: right;\n",
       "    }\n",
       "</style>\n",
       "<table border=\"1\" class=\"dataframe\">\n",
       "  <thead>\n",
       "    <tr style=\"text-align: right;\">\n",
       "      <th></th>\n",
       "      <th>headcirc</th>\n",
       "      <th>length</th>\n",
       "      <th>gestage</th>\n",
       "      <th>birthwt</th>\n",
       "      <th>momage</th>\n",
       "      <th>toxemia</th>\n",
       "    </tr>\n",
       "  </thead>\n",
       "  <tbody>\n",
       "    <tr>\n",
       "      <th>0</th>\n",
       "      <td>27</td>\n",
       "      <td>41</td>\n",
       "      <td>29</td>\n",
       "      <td>1360</td>\n",
       "      <td>37</td>\n",
       "      <td>0</td>\n",
       "    </tr>\n",
       "    <tr>\n",
       "      <th>1</th>\n",
       "      <td>29</td>\n",
       "      <td>40</td>\n",
       "      <td>31</td>\n",
       "      <td>1490</td>\n",
       "      <td>34</td>\n",
       "      <td>0</td>\n",
       "    </tr>\n",
       "    <tr>\n",
       "      <th>2</th>\n",
       "      <td>30</td>\n",
       "      <td>38</td>\n",
       "      <td>33</td>\n",
       "      <td>1490</td>\n",
       "      <td>32</td>\n",
       "      <td>0</td>\n",
       "    </tr>\n",
       "    <tr>\n",
       "      <th>3</th>\n",
       "      <td>28</td>\n",
       "      <td>38</td>\n",
       "      <td>31</td>\n",
       "      <td>1180</td>\n",
       "      <td>37</td>\n",
       "      <td>0</td>\n",
       "    </tr>\n",
       "    <tr>\n",
       "      <th>4</th>\n",
       "      <td>29</td>\n",
       "      <td>38</td>\n",
       "      <td>30</td>\n",
       "      <td>1200</td>\n",
       "      <td>29</td>\n",
       "      <td>1</td>\n",
       "    </tr>\n",
       "  </tbody>\n",
       "</table>\n",
       "</div>"
      ],
      "text/plain": [
       "   headcirc   length   gestage   birthwt   momage   toxemia\n",
       "0        27       41        29      1360       37         0\n",
       "1        29       40        31      1490       34         0\n",
       "2        30       38        33      1490       32         0\n",
       "3        28       38        31      1180       37         0\n",
       "4        29       38        30      1200       29         1"
      ]
     },
     "execution_count": 76,
     "metadata": {},
     "output_type": "execute_result"
    }
   ],
   "source": [
    "Archivo = 'infantesConBajoPesoAlNacer.txt'\n",
    "\n",
    "df = pd.read_csv(Archivo)\n",
    "\n",
    "df.head()"
   ]
  },
  {
   "cell_type": "code",
   "execution_count": 80,
   "metadata": {},
   "outputs": [
    {
     "data": {
      "image/png": "[encoded data removed]",
      "text/plain": [
       "<Figure size 640x480 with 1 Axes>"
      ]
     },
     "metadata": {},
     "output_type": "display_data"
    }
   ],
   "source": [
    "import matplotlib.pyplot as plt\n",
    "\n",
    "# Definimos las variables que nos piden.\n",
    "Y = df['headcirc']\n",
    "X1 = df[' gestage']\n",
    "X2 = df[' birthwt']\n",
    "\n",
    "# Creamos la figura sobre la que vamos a plasmar el gráfico.\n",
    "plt.figure()\n",
    "\n",
    "# Establecemos la relación entre X1 y Y.\n",
    "plt.scatter(X1, Y)\n",
    "\n",
    "# Nombramos los ejes.\n",
    "plt.xlabel('Peso al nacer (grs.)')\n",
    "plt.ylabel('Perímetro cefálico al nacer (cm.)')\n",
    "\n",
    "# Mostramos el gráfico.\n",
    "plt.show()"
   ]
  },
  {
   "cell_type": "code",
   "execution_count": 81,
   "metadata": {},
   "outputs": [
    {
     "data": {
      "image/png": "[encoded data removed]",
      "text/plain": [
       "<Figure size 640x480 with 1 Axes>"
      ]
     },
     "metadata": {},
     "output_type": "display_data"
    }
   ],
   "source": [
    "# Acá lo mismo.\n",
    "\n",
    "# Creamos la figura sobre la que vamos a plasmar el gráfico.\n",
    "plt.figure()\n",
    "\n",
    "# Establecemos la relación entre X1 y Y.\n",
    "plt.scatter(X2, Y)\n",
    "\n",
    "# Nombramos los ejes.\n",
    "plt.xlabel('Edad gestacional al nacer (semanas)')\n",
    "plt.ylabel('Perímetro cefálico al nacer (cm.)')\n",
    "\n",
    "# Mostramos el gráfico.\n",
    "plt.show()"
   ]
  },
  {
   "cell_type": "code",
   "execution_count": 86,
   "metadata": {},
   "outputs": [
    {
     "name": "stdout",
     "output_type": "stream",
     "text": [
      "                            OLS Regression Results                            \n",
      "==============================================================================\n",
      "Dep. Variable:               headcirc   R-squared:                       0.609\n",
      "Model:                            OLS   Adj. R-squared:                  0.605\n",
      "Method:                 Least Squares   F-statistic:                     152.9\n",
      "Date:                Sun, 29 Sep 2024   Prob (F-statistic):           1.00e-21\n",
      "Time:                        02:46:08   Log-Likelihood:                -187.28\n",
      "No. Observations:                 100   AIC:                             378.6\n",
      "Df Residuals:                      98   BIC:                             383.8\n",
      "Df Model:                           1                                         \n",
      "Covariance Type:            nonrobust                                         \n",
      "==============================================================================\n",
      "                 coef    std err          t      P>|t|      [0.025      0.975]\n",
      "------------------------------------------------------------------------------\n",
      "const          3.9143      1.829      2.140      0.035       0.284       7.544\n",
      " gestage       0.7801      0.063     12.367      0.000       0.655       0.905\n",
      "==============================================================================\n",
      "Omnibus:                       23.475   Durbin-Watson:                   2.037\n",
      "Prob(Omnibus):                  0.000   Jarque-Bera (JB):               53.083\n",
      "Skew:                           0.849   Prob(JB):                     2.97e-12\n",
      "Kurtosis:                       6.140   Cond. No.                         334.\n",
      "==============================================================================\n",
      "\n",
      "Notes:\n",
      "[1] Standard Errors assume that the covariance matrix of the errors is correctly specified.\n"
     ]
    }
   ],
   "source": [
    "import statsmodels.api as sm\n",
    "\n",
    "# b) Modelo de regresión lineal simple\n",
    "X1 = sm.add_constant(df[' gestage'])  # Agregar constante\n",
    "model1 = sm.OLS(df['headcirc'], X1).fit()\n",
    "print(model1.summary())"
   ]
  },
  {
   "cell_type": "code",
   "execution_count": 83,
   "metadata": {},
   "outputs": [
    {
     "name": "stdout",
     "output_type": "stream",
     "text": [
      "Collecting statsmodels\n",
      "  Downloading statsmodels-0.14.3-cp311-cp311-win_amd64.whl.metadata (9.5 kB)\n",
      "Requirement already satisfied: numpy<3,>=1.22.3 in c:\\users\\tomas\\appdata\\local\\packages\\pythonsoftwarefoundation.python.3.11_qbz5n2kfra8p0\\localcache\\local-packages\\python311\\site-packages (from statsmodels) (2.1.0)\n",
      "Requirement already satisfied: scipy!=1.9.2,>=1.8 in c:\\users\\tomas\\appdata\\local\\packages\\pythonsoftwarefoundation.python.3.11_qbz5n2kfra8p0\\localcache\\local-packages\\python311\\site-packages (from statsmodels) (1.14.1)\n",
      "Requirement already satisfied: pandas!=2.1.0,>=1.4 in c:\\users\\tomas\\appdata\\local\\packages\\pythonsoftwarefoundation.python.3.11_qbz5n2kfra8p0\\localcache\\local-packages\\python311\\site-packages (from statsmodels) (2.2.2)\n",
      "Collecting patsy>=0.5.6 (from statsmodels)\n",
      "  Downloading patsy-0.5.6-py2.py3-none-any.whl.metadata (3.5 kB)\n",
      "Requirement already satisfied: packaging>=21.3 in c:\\users\\tomas\\appdata\\local\\packages\\pythonsoftwarefoundation.python.3.11_qbz5n2kfra8p0\\localcache\\local-packages\\python311\\site-packages (from statsmodels) (24.1)\n",
      "Requirement already satisfied: python-dateutil>=2.8.2 in c:\\users\\tomas\\appdata\\local\\packages\\pythonsoftwarefoundation.python.3.11_qbz5n2kfra8p0\\localcache\\local-packages\\python311\\site-packages (from pandas!=2.1.0,>=1.4->statsmodels) (2.9.0.post0)\n",
      "Requirement already satisfied: pytz>=2020.1 in c:\\users\\tomas\\appdata\\local\\packages\\pythonsoftwarefoundation.python.3.11_qbz5n2kfra8p0\\localcache\\local-packages\\python311\\site-packages (from pandas!=2.1.0,>=1.4->statsmodels) (2024.1)\n",
      "Requirement already satisfied: tzdata>=2022.7 in c:\\users\\tomas\\appdata\\local\\packages\\pythonsoftwarefoundation.python.3.11_qbz5n2kfra8p0\\localcache\\local-packages\\python311\\site-packages (from pandas!=2.1.0,>=1.4->statsmodels) (2024.1)\n",
      "Requirement already satisfied: six in c:\\users\\tomas\\appdata\\local\\packages\\pythonsoftwarefoundation.python.3.11_qbz5n2kfra8p0\\localcache\\local-packages\\python311\\site-packages (from patsy>=0.5.6->statsmodels) (1.16.0)\n",
      "Downloading statsmodels-0.14.3-cp311-cp311-win_amd64.whl (9.9 MB)\n",
      "   ---------------------------------------- 0.0/9.9 MB ? eta -:--:--\n",
      "   ------------------- -------------------- 4.7/9.9 MB 28.4 MB/s eta 0:00:01\n",
      "   ---------------------------------------- 9.9/9.9 MB 26.6 MB/s eta 0:00:00\n",
      "Downloading patsy-0.5.6-py2.py3-none-any.whl (233 kB)\n",
      "Installing collected packages: patsy, statsmodels\n",
      "Successfully installed patsy-0.5.6 statsmodels-0.14.3\n",
      "Note: you may need to restart the kernel to use updated packages.\n"
     ]
    }
   ],
   "source": []
  },
  {
   "cell_type": "code",
   "execution_count": null,
   "metadata": {},
   "outputs": [],
   "source": []
  }
 ],
 "metadata": {
  "kernelspec": {
   "display_name": "Python 3",
   "language": "python",
   "name": "python3"
  },
  "language_info": {
   "codemirror_mode": {
    "name": "ipython",
    "version": 3
   },
   "file_extension": ".py",
   "mimetype": "text/x-python",
   "name": "python",
   "nbconvert_exporter": "python",
   "pygments_lexer": "ipython3",
   "version": "3.11.9"
  }
 },
 "nbformat": 4,
 "nbformat_minor": 2
}
